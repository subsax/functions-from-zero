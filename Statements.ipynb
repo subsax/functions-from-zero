{
  "nbformat": 4,
  "nbformat_minor": 0,
  "metadata": {
    "colab": {
      "provenance": [],
      "authorship_tag": "ABX9TyOUko6NJKz1HMF2J/nnX9lj",
      "include_colab_link": true
    },
    "kernelspec": {
      "name": "python3",
      "display_name": "Python 3"
    },
    "language_info": {
      "name": "python"
    }
  },
  "cells": [
    {
      "cell_type": "markdown",
      "metadata": {
        "id": "view-in-github",
        "colab_type": "text"
      },
      "source": [
        "<a href=\"https://colab.research.google.com/github/subsax/functions-from-zero/blob/main/Statements.ipynb\" target=\"_parent\"><img src=\"https://colab.research.google.com/assets/colab-badge.svg\" alt=\"Open In Colab\"/></a>"
      ]
    },
    {
      "cell_type": "markdown",
      "source": [
        "##Learning Statements\n"
      ],
      "metadata": {
        "id": "CZNZhMGPHHyF"
      }
    },
    {
      "cell_type": "code",
      "execution_count": 1,
      "metadata": {
        "colab": {
          "base_uri": "https://localhost:8080/"
        },
        "id": "5D5CwSarGjF5",
        "outputId": "5fc9248a-a01e-4229-ac47-25a86b1dced1"
      },
      "outputs": [
        {
          "output_type": "stream",
          "name": "stdout",
          "text": [
            "hello world\n"
          ]
        }
      ],
      "source": [
        "print (\"hello world\")"
      ]
    },
    {
      "cell_type": "markdown",
      "source": [
        "#Variable and assign the value"
      ],
      "metadata": {
        "id": "YrJVpuMUHhNP"
      }
    },
    {
      "cell_type": "code",
      "source": [],
      "metadata": {
        "id": "AUiNdEqdHT1l"
      },
      "execution_count": null,
      "outputs": []
    }
  ]
}