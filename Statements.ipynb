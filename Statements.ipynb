{
  "nbformat": 4,
  "nbformat_minor": 0,
  "metadata": {
    "colab": {
      "provenance": [],
      "authorship_tag": "ABX9TyNCvKHZBerCkPPeNf3/42Dv",
      "include_colab_link": true
    },
    "kernelspec": {
      "name": "python3",
      "display_name": "Python 3"
    },
    "language_info": {
      "name": "python"
    }
  },
  "cells": [
    {
      "cell_type": "markdown",
      "metadata": {
        "id": "view-in-github",
        "colab_type": "text"
      },
      "source": [
        "<a href=\"https://colab.research.google.com/github/subsax/functions-from-zero/blob/main/Statements.ipynb\" target=\"_parent\"><img src=\"https://colab.research.google.com/assets/colab-badge.svg\" alt=\"Open In Colab\"/></a>"
      ]
    },
    {
      "cell_type": "markdown",
      "source": [
        "##Learning Statements\n"
      ],
      "metadata": {
        "id": "CZNZhMGPHHyF"
      }
    },
    {
      "cell_type": "code",
      "execution_count": 1,
      "metadata": {
        "colab": {
          "base_uri": "https://localhost:8080/"
        },
        "id": "5D5CwSarGjF5",
        "outputId": "5fc9248a-a01e-4229-ac47-25a86b1dced1"
      },
      "outputs": [
        {
          "output_type": "stream",
          "name": "stdout",
          "text": [
            "hello world\n"
          ]
        }
      ],
      "source": [
        "print (\"hello world\")"
      ]
    },
    {
      "cell_type": "markdown",
      "source": [
        "#Variable and assign the value"
      ],
      "metadata": {
        "id": "YrJVpuMUHhNP"
      }
    },
    {
      "cell_type": "code",
      "source": [
        "variable =1"
      ],
      "metadata": {
        "id": "AUiNdEqdHT1l"
      },
      "execution_count": 2,
      "outputs": []
    },
    {
      "cell_type": "markdown",
      "source": [
        "##Data structures"
      ],
      "metadata": {
        "id": "Eh9A3y5XI0Wm"
      }
    },
    {
      "cell_type": "code",
      "source": [
        "my_list=[1,2,3]"
      ],
      "metadata": {
        "id": "Hhk_8L8lIc8Z"
      },
      "execution_count": 3,
      "outputs": []
    },
    {
      "cell_type": "code",
      "source": [
        "my_list[1]"
      ],
      "metadata": {
        "colab": {
          "base_uri": "https://localhost:8080/"
        },
        "id": "n2R514aOI_Eu",
        "outputId": "1e6eaf01-9294-4ef2-c559-8a17270e9c46"
      },
      "execution_count": 4,
      "outputs": [
        {
          "output_type": "execute_result",
          "data": {
            "text/plain": [
              "2"
            ]
          },
          "metadata": {},
          "execution_count": 4
        }
      ]
    },
    {
      "cell_type": "markdown",
      "source": [
        "Dictonary"
      ],
      "metadata": {
        "id": "X2agK2MNJgOZ"
      }
    },
    {
      "cell_type": "code",
      "source": [
        "my_dict = {1:\"one\",2:\"two\"}"
      ],
      "metadata": {
        "id": "nCuMoTv6JBql"
      },
      "execution_count": 5,
      "outputs": []
    },
    {
      "cell_type": "code",
      "source": [
        "type(my_dict)"
      ],
      "metadata": {
        "colab": {
          "base_uri": "https://localhost:8080/"
        },
        "id": "0IJeCgOaJusy",
        "outputId": "f8f8321c-f35a-4889-990e-8c497d4a13b7"
      },
      "execution_count": 6,
      "outputs": [
        {
          "output_type": "execute_result",
          "data": {
            "text/plain": [
              "dict"
            ]
          },
          "metadata": {},
          "execution_count": 6
        }
      ]
    },
    {
      "cell_type": "code",
      "source": [],
      "metadata": {
        "id": "YIB8f8syJzR2"
      },
      "execution_count": null,
      "outputs": []
    },
    {
      "cell_type": "markdown",
      "source": [
        "###Loop"
      ],
      "metadata": {
        "id": "C7wBFNDgJ9IJ"
      }
    },
    {
      "cell_type": "code",
      "source": [
        "for key,value in my_dict.items():\n",
        "  print(f\"this is my value :{value}\")\n",
        "  print(f\"this is my key : {key}\")"
      ],
      "metadata": {
        "colab": {
          "base_uri": "https://localhost:8080/"
        },
        "id": "AI9SBsfCJ_dp",
        "outputId": "b6ed14c1-c76f-4b34-cf57-411aa5808e9c"
      },
      "execution_count": 7,
      "outputs": [
        {
          "output_type": "stream",
          "name": "stdout",
          "text": [
            "this is my value :one\n",
            "this is my key : 1\n",
            "this is my value :two\n",
            "this is my key : 2\n"
          ]
        }
      ]
    },
    {
      "cell_type": "code",
      "source": [
        "for items in my_list:\n",
        "  print(f\"my items in the list are : {items}\")"
      ],
      "metadata": {
        "colab": {
          "base_uri": "https://localhost:8080/"
        },
        "id": "KlgN5pSZKvq0",
        "outputId": "086d6454-97cc-4c46-ab1b-4d0bbf4acd60"
      },
      "execution_count": 8,
      "outputs": [
        {
          "output_type": "stream",
          "name": "stdout",
          "text": [
            "my items in the list are : 1\n",
            "my items in the list are : 2\n",
            "my items in the list are : 3\n"
          ]
        }
      ]
    },
    {
      "cell_type": "code",
      "source": [],
      "metadata": {
        "id": "dHSdP1IJLd16"
      },
      "execution_count": null,
      "outputs": []
    }
  ]
}